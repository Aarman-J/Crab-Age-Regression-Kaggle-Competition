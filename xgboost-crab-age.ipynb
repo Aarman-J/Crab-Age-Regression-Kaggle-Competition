{
 "cells": [
  {
   "cell_type": "markdown",
   "id": "3043801c",
   "metadata": {
    "papermill": {
     "duration": 0.006531,
     "end_time": "2023-06-06T18:12:20.012333",
     "exception": false,
     "start_time": "2023-06-06T18:12:20.005802",
     "status": "completed"
    },
    "tags": []
   },
   "source": [
    "# Crab Regression With XGBoost\n"
   ]
  },
  {
   "cell_type": "markdown",
   "id": "e632078b",
   "metadata": {
    "papermill": {
     "duration": 0.005537,
     "end_time": "2023-06-06T18:12:20.023774",
     "exception": false,
     "start_time": "2023-06-06T18:12:20.018237",
     "status": "completed"
    },
    "tags": []
   },
   "source": [
    "## Imports"
   ]
  },
  {
   "cell_type": "code",
   "execution_count": 1,
   "id": "48f4c31b",
   "metadata": {
    "execution": {
     "iopub.execute_input": "2023-06-06T18:12:20.038514Z",
     "iopub.status.busy": "2023-06-06T18:12:20.037825Z",
     "iopub.status.idle": "2023-06-06T18:12:21.585377Z",
     "shell.execute_reply": "2023-06-06T18:12:21.584305Z"
    },
    "papermill": {
     "duration": 1.55863,
     "end_time": "2023-06-06T18:12:21.588076",
     "exception": false,
     "start_time": "2023-06-06T18:12:20.029446",
     "status": "completed"
    },
    "tags": []
   },
   "outputs": [],
   "source": [
    "import numpy as np \n",
    "import pandas as pd \n",
    "import matplotlib.pyplot as plt\n",
    "import os\n",
    "import seaborn as sns"
   ]
  },
  {
   "cell_type": "markdown",
   "id": "0c9dc7eb",
   "metadata": {
    "papermill": {
     "duration": 0.007094,
     "end_time": "2023-06-06T18:12:21.601423",
     "exception": false,
     "start_time": "2023-06-06T18:12:21.594329",
     "status": "completed"
    },
    "tags": []
   },
   "source": [
    "## Loading Data"
   ]
  },
  {
   "cell_type": "code",
   "execution_count": 2,
   "id": "d076728a",
   "metadata": {
    "execution": {
     "iopub.execute_input": "2023-06-06T18:12:21.615315Z",
     "iopub.status.busy": "2023-06-06T18:12:21.614916Z",
     "iopub.status.idle": "2023-06-06T18:12:21.848074Z",
     "shell.execute_reply": "2023-06-06T18:12:21.846926Z"
    },
    "papermill": {
     "duration": 0.242826,
     "end_time": "2023-06-06T18:12:21.850204",
     "exception": false,
     "start_time": "2023-06-06T18:12:21.607378",
     "status": "completed"
    },
    "tags": []
   },
   "outputs": [
    {
     "data": {
      "text/html": [
       "<div>\n",
       "<style scoped>\n",
       "    .dataframe tbody tr th:only-of-type {\n",
       "        vertical-align: middle;\n",
       "    }\n",
       "\n",
       "    .dataframe tbody tr th {\n",
       "        vertical-align: top;\n",
       "    }\n",
       "\n",
       "    .dataframe thead th {\n",
       "        text-align: right;\n",
       "    }\n",
       "</style>\n",
       "<table border=\"1\" class=\"dataframe\">\n",
       "  <thead>\n",
       "    <tr style=\"text-align: right;\">\n",
       "      <th></th>\n",
       "      <th>id</th>\n",
       "      <th>Sex</th>\n",
       "      <th>Length</th>\n",
       "      <th>Diameter</th>\n",
       "      <th>Height</th>\n",
       "      <th>Weight</th>\n",
       "      <th>Shucked Weight</th>\n",
       "      <th>Viscera Weight</th>\n",
       "      <th>Shell Weight</th>\n",
       "      <th>Age</th>\n",
       "    </tr>\n",
       "  </thead>\n",
       "  <tbody>\n",
       "    <tr>\n",
       "      <th>0</th>\n",
       "      <td>0</td>\n",
       "      <td>I</td>\n",
       "      <td>1.5250</td>\n",
       "      <td>1.1750</td>\n",
       "      <td>0.3750</td>\n",
       "      <td>28.973189</td>\n",
       "      <td>12.728926</td>\n",
       "      <td>6.647958</td>\n",
       "      <td>8.348928</td>\n",
       "      <td>9</td>\n",
       "    </tr>\n",
       "    <tr>\n",
       "      <th>1</th>\n",
       "      <td>1</td>\n",
       "      <td>I</td>\n",
       "      <td>1.1000</td>\n",
       "      <td>0.8250</td>\n",
       "      <td>0.2750</td>\n",
       "      <td>10.418441</td>\n",
       "      <td>4.521745</td>\n",
       "      <td>2.324659</td>\n",
       "      <td>3.401940</td>\n",
       "      <td>8</td>\n",
       "    </tr>\n",
       "    <tr>\n",
       "      <th>2</th>\n",
       "      <td>2</td>\n",
       "      <td>M</td>\n",
       "      <td>1.3875</td>\n",
       "      <td>1.1125</td>\n",
       "      <td>0.3750</td>\n",
       "      <td>24.777463</td>\n",
       "      <td>11.339800</td>\n",
       "      <td>5.556502</td>\n",
       "      <td>6.662133</td>\n",
       "      <td>9</td>\n",
       "    </tr>\n",
       "    <tr>\n",
       "      <th>3</th>\n",
       "      <td>3</td>\n",
       "      <td>F</td>\n",
       "      <td>1.7000</td>\n",
       "      <td>1.4125</td>\n",
       "      <td>0.5000</td>\n",
       "      <td>50.660556</td>\n",
       "      <td>20.354941</td>\n",
       "      <td>10.991839</td>\n",
       "      <td>14.996885</td>\n",
       "      <td>11</td>\n",
       "    </tr>\n",
       "    <tr>\n",
       "      <th>4</th>\n",
       "      <td>4</td>\n",
       "      <td>I</td>\n",
       "      <td>1.2500</td>\n",
       "      <td>1.0125</td>\n",
       "      <td>0.3375</td>\n",
       "      <td>23.289114</td>\n",
       "      <td>11.977664</td>\n",
       "      <td>4.507570</td>\n",
       "      <td>5.953395</td>\n",
       "      <td>8</td>\n",
       "    </tr>\n",
       "  </tbody>\n",
       "</table>\n",
       "</div>"
      ],
      "text/plain": [
       "   id Sex  Length  Diameter  Height     Weight  Shucked Weight  \\\n",
       "0   0   I  1.5250    1.1750  0.3750  28.973189       12.728926   \n",
       "1   1   I  1.1000    0.8250  0.2750  10.418441        4.521745   \n",
       "2   2   M  1.3875    1.1125  0.3750  24.777463       11.339800   \n",
       "3   3   F  1.7000    1.4125  0.5000  50.660556       20.354941   \n",
       "4   4   I  1.2500    1.0125  0.3375  23.289114       11.977664   \n",
       "\n",
       "   Viscera Weight  Shell Weight  Age  \n",
       "0        6.647958      8.348928    9  \n",
       "1        2.324659      3.401940    8  \n",
       "2        5.556502      6.662133    9  \n",
       "3       10.991839     14.996885   11  \n",
       "4        4.507570      5.953395    8  "
      ]
     },
     "execution_count": 2,
     "metadata": {},
     "output_type": "execute_result"
    }
   ],
   "source": [
    "df_train = pd.read_csv('/kaggle/input/playground-series-s3e16/train.csv')\n",
    "df_test = pd.read_csv('/kaggle/input/playground-series-s3e16/test.csv')\n",
    "df_train.head()"
   ]
  },
  {
   "cell_type": "markdown",
   "id": "5030ff28",
   "metadata": {
    "papermill": {
     "duration": 0.006566,
     "end_time": "2023-06-06T18:12:21.863059",
     "exception": false,
     "start_time": "2023-06-06T18:12:21.856493",
     "status": "completed"
    },
    "tags": []
   },
   "source": [
    "## Finding outliers in the data"
   ]
  },
  {
   "cell_type": "code",
   "execution_count": 3,
   "id": "e3e3bcf0",
   "metadata": {
    "execution": {
     "iopub.execute_input": "2023-06-06T18:12:21.877062Z",
     "iopub.status.busy": "2023-06-06T18:12:21.876675Z",
     "iopub.status.idle": "2023-06-06T18:12:22.036261Z",
     "shell.execute_reply": "2023-06-06T18:12:22.035466Z"
    },
    "papermill": {
     "duration": 0.169166,
     "end_time": "2023-06-06T18:12:22.038387",
     "exception": false,
     "start_time": "2023-06-06T18:12:21.869221",
     "status": "completed"
    },
    "tags": []
   },
   "outputs": [
    {
     "data": {
      "text/plain": [
       "<Axes: >"
      ]
     },
     "execution_count": 3,
     "metadata": {},
     "output_type": "execute_result"
    },
    {
     "data": {
      "image/png": "[encoded data removed]",
      "text/plain": [
       "<Figure size 400x300 with 1 Axes>"
      ]
     },
     "metadata": {},
     "output_type": "display_data"
    }
   ],
   "source": [
    "# Thanks to https://www.kaggle.com/code/anjusukumaran4/crab-age-dataset-eda-prediction-4-models#Model-Building for this analysis\n",
    "plt.figure(figsize=(4,3))\n",
    "sns.boxplot(df_train['Length'])"
   ]
  },
  {
   "cell_type": "code",
   "execution_count": 4,
   "id": "768f048e",
   "metadata": {
    "execution": {
     "iopub.execute_input": "2023-06-06T18:12:22.056417Z",
     "iopub.status.busy": "2023-06-06T18:12:22.055482Z",
     "iopub.status.idle": "2023-06-06T18:12:22.209613Z",
     "shell.execute_reply": "2023-06-06T18:12:22.208719Z"
    },
    "papermill": {
     "duration": 0.164617,
     "end_time": "2023-06-06T18:12:22.211516",
     "exception": false,
     "start_time": "2023-06-06T18:12:22.046899",
     "status": "completed"
    },
    "tags": []
   },
   "outputs": [
    {
     "data": {
      "text/plain": [
       "<Axes: >"
      ]
     },
     "execution_count": 4,
     "metadata": {},
     "output_type": "execute_result"
    },
    {
     "data": {
      "image/png": "[encoded data removed]",
      "text/plain": [
       "<Figure size 400x300 with 1 Axes>"
      ]
     },
     "metadata": {},
     "output_type": "display_data"
    }
   ],
   "source": [
    "plt.figure(figsize=(4,3))\n",
    "sns.boxplot(df_train['Diameter'])"
   ]
  },
  {
   "cell_type": "code",
   "execution_count": 5,
   "id": "75bfdacc",
   "metadata": {
    "execution": {
     "iopub.execute_input": "2023-06-06T18:12:22.227534Z",
     "iopub.status.busy": "2023-06-06T18:12:22.226982Z",
     "iopub.status.idle": "2023-06-06T18:12:22.359958Z",
     "shell.execute_reply": "2023-06-06T18:12:22.359191Z"
    },
    "papermill": {
     "duration": 0.143071,
     "end_time": "2023-06-06T18:12:22.362053",
     "exception": false,
     "start_time": "2023-06-06T18:12:22.218982",
     "status": "completed"
    },
    "tags": []
   },
   "outputs": [
    {
     "data": {
      "text/plain": [
       "<Axes: >"
      ]
     },
     "execution_count": 5,
     "metadata": {},
     "output_type": "execute_result"
    },
    {
     "data": {
      "image/png": "[encoded data removed]",
      "text/plain": [
       "<Figure size 400x300 with 1 Axes>"
      ]
     },
     "metadata": {},
     "output_type": "display_data"
    }
   ],
   "source": [
    "plt.figure(figsize=(4,3))\n",
    "sns.boxplot(df_train['Height'])"
   ]
  },
  {
   "cell_type": "code",
   "execution_count": 6,
   "id": "19f140f0",
   "metadata": {
    "execution": {
     "iopub.execute_input": "2023-06-06T18:12:22.380992Z",
     "iopub.status.busy": "2023-06-06T18:12:22.380665Z",
     "iopub.status.idle": "2023-06-06T18:12:22.505086Z",
     "shell.execute_reply": "2023-06-06T18:12:22.504327Z"
    },
    "papermill": {
     "duration": 0.13527,
     "end_time": "2023-06-06T18:12:22.506820",
     "exception": false,
     "start_time": "2023-06-06T18:12:22.371550",
     "status": "completed"
    },
    "tags": []
   },
   "outputs": [
    {
     "data": {
      "text/plain": [
       "<Axes: >"
      ]
     },
     "execution_count": 6,
     "metadata": {},
     "output_type": "execute_result"
    },
    {
     "data": {
      "image/png": "[encoded data removed]",
      "text/plain": [
       "<Figure size 400x300 with 1 Axes>"
      ]
     },
     "metadata": {},
     "output_type": "display_data"
    }
   ],
   "source": [
    "plt.figure(figsize=(4,3))\n",
    "sns.boxplot(df_train['Weight'])\n"
   ]
  },
  {
   "cell_type": "code",
   "execution_count": 7,
   "id": "844d5312",
   "metadata": {
    "execution": {
     "iopub.execute_input": "2023-06-06T18:12:22.527028Z",
     "iopub.status.busy": "2023-06-06T18:12:22.526452Z",
     "iopub.status.idle": "2023-06-06T18:12:22.649594Z",
     "shell.execute_reply": "2023-06-06T18:12:22.648920Z"
    },
    "papermill": {
     "duration": 0.135526,
     "end_time": "2023-06-06T18:12:22.651478",
     "exception": false,
     "start_time": "2023-06-06T18:12:22.515952",
     "status": "completed"
    },
    "tags": []
   },
   "outputs": [
    {
     "data": {
      "text/plain": [
       "<Axes: >"
      ]
     },
     "execution_count": 7,
     "metadata": {},
     "output_type": "execute_result"
    },
    {
     "data": {
      "image/png": "[encoded data removed]",
      "text/plain": [
       "<Figure size 400x300 with 1 Axes>"
      ]
     },
     "metadata": {},
     "output_type": "display_data"
    }
   ],
   "source": [
    "plt.figure(figsize=(4,3))\n",
    "sns.boxplot(df_train['Shucked Weight'])"
   ]
  },
  {
   "cell_type": "code",
   "execution_count": 8,
   "id": "a44c8dc4",
   "metadata": {
    "execution": {
     "iopub.execute_input": "2023-06-06T18:12:22.672877Z",
     "iopub.status.busy": "2023-06-06T18:12:22.672346Z",
     "iopub.status.idle": "2023-06-06T18:12:22.792835Z",
     "shell.execute_reply": "2023-06-06T18:12:22.792160Z"
    },
    "papermill": {
     "duration": 0.1337,
     "end_time": "2023-06-06T18:12:22.794755",
     "exception": false,
     "start_time": "2023-06-06T18:12:22.661055",
     "status": "completed"
    },
    "tags": []
   },
   "outputs": [
    {
     "data": {
      "text/plain": [
       "<Axes: >"
      ]
     },
     "execution_count": 8,
     "metadata": {},
     "output_type": "execute_result"
    },
    {
     "data": {
      "image/png": "[encoded data removed]",
      "text/plain": [
       "<Figure size 400x300 with 1 Axes>"
      ]
     },
     "metadata": {},
     "output_type": "display_data"
    }
   ],
   "source": [
    "plt.figure(figsize=(4,3))\n",
    "sns.boxplot(df_train['Viscera Weight'])"
   ]
  },
  {
   "cell_type": "code",
   "execution_count": 9,
   "id": "13e3c428",
   "metadata": {
    "execution": {
     "iopub.execute_input": "2023-06-06T18:12:22.816361Z",
     "iopub.status.busy": "2023-06-06T18:12:22.815805Z",
     "iopub.status.idle": "2023-06-06T18:12:22.942812Z",
     "shell.execute_reply": "2023-06-06T18:12:22.942067Z"
    },
    "papermill": {
     "duration": 0.139956,
     "end_time": "2023-06-06T18:12:22.944731",
     "exception": false,
     "start_time": "2023-06-06T18:12:22.804775",
     "status": "completed"
    },
    "tags": []
   },
   "outputs": [
    {
     "data": {
      "text/plain": [
       "<Axes: >"
      ]
     },
     "execution_count": 9,
     "metadata": {},
     "output_type": "execute_result"
    },
    {
     "data": {
      "image/png": "[encoded data removed]",
      "text/plain": [
       "<Figure size 400x300 with 1 Axes>"
      ]
     },
     "metadata": {},
     "output_type": "display_data"
    }
   ],
   "source": [
    "plt.figure(figsize=(4,3))\n",
    "sns.boxplot(df_train['Shell Weight'])\n"
   ]
  },
  {
   "cell_type": "code",
   "execution_count": 10,
   "id": "31103f2b",
   "metadata": {
    "execution": {
     "iopub.execute_input": "2023-06-06T18:12:22.967693Z",
     "iopub.status.busy": "2023-06-06T18:12:22.967160Z",
     "iopub.status.idle": "2023-06-06T18:12:23.018438Z",
     "shell.execute_reply": "2023-06-06T18:12:23.017197Z"
    },
    "papermill": {
     "duration": 0.065452,
     "end_time": "2023-06-06T18:12:23.020801",
     "exception": false,
     "start_time": "2023-06-06T18:12:22.955349",
     "status": "completed"
    },
    "tags": []
   },
   "outputs": [],
   "source": [
    "df_train=df_train.drop(df_train[df_train['Length']<0.35].index)\n",
    "df_train=df_train.drop(df_train[df_train['Diameter']<0.2].index)\n",
    "df_train=df_train.drop(df_train[df_train['Height']>1.2].index)\n",
    "df_train=df_train.drop(df_train[df_train['Weight']>70].index)\n",
    "df_train=df_train.drop(df_train[df_train['Shucked Weight']>40].index)\n",
    "df_train=df_train.drop(df_train[df_train['Viscera Weight']>18].index)\n",
    "df_train=df_train.drop(df_train[df_train['Shell Weight']>25].index)\n"
   ]
  },
  {
   "cell_type": "code",
   "execution_count": 11,
   "id": "0febda0d",
   "metadata": {
    "execution": {
     "iopub.execute_input": "2023-06-06T18:12:23.038737Z",
     "iopub.status.busy": "2023-06-06T18:12:23.038362Z",
     "iopub.status.idle": "2023-06-06T18:12:23.046779Z",
     "shell.execute_reply": "2023-06-06T18:12:23.045454Z"
    },
    "papermill": {
     "duration": 0.020114,
     "end_time": "2023-06-06T18:12:23.049217",
     "exception": false,
     "start_time": "2023-06-06T18:12:23.029103",
     "status": "completed"
    },
    "tags": []
   },
   "outputs": [
    {
     "data": {
      "text/plain": [
       "(73948, 10)"
      ]
     },
     "execution_count": 11,
     "metadata": {},
     "output_type": "execute_result"
    }
   ],
   "source": [
    "df_train.shape"
   ]
  },
  {
   "cell_type": "markdown",
   "id": "8a460200",
   "metadata": {
    "papermill": {
     "duration": 0.007812,
     "end_time": "2023-06-06T18:12:23.065552",
     "exception": false,
     "start_time": "2023-06-06T18:12:23.057740",
     "status": "completed"
    },
    "tags": []
   },
   "source": [
    "## Preprocessing"
   ]
  },
  {
   "cell_type": "code",
   "execution_count": 12,
   "id": "a2787774",
   "metadata": {
    "execution": {
     "iopub.execute_input": "2023-06-06T18:12:23.083560Z",
     "iopub.status.busy": "2023-06-06T18:12:23.083199Z",
     "iopub.status.idle": "2023-06-06T18:12:23.102712Z",
     "shell.execute_reply": "2023-06-06T18:12:23.101667Z"
    },
    "papermill": {
     "duration": 0.03109,
     "end_time": "2023-06-06T18:12:23.104673",
     "exception": false,
     "start_time": "2023-06-06T18:12:23.073583",
     "status": "completed"
    },
    "tags": []
   },
   "outputs": [
    {
     "data": {
      "text/plain": [
       "id                0\n",
       "Sex               0\n",
       "Length            0\n",
       "Diameter          0\n",
       "Height            0\n",
       "Weight            0\n",
       "Shucked Weight    0\n",
       "Viscera Weight    0\n",
       "Shell Weight      0\n",
       "Age               0\n",
       "dtype: int64"
      ]
     },
     "execution_count": 12,
     "metadata": {},
     "output_type": "execute_result"
    }
   ],
   "source": [
    "df_train.isna().sum()"
   ]
  },
  {
   "cell_type": "code",
   "execution_count": 13,
   "id": "dc5c015a",
   "metadata": {
    "execution": {
     "iopub.execute_input": "2023-06-06T18:12:23.124671Z",
     "iopub.status.busy": "2023-06-06T18:12:23.124329Z",
     "iopub.status.idle": "2023-06-06T18:12:23.132090Z",
     "shell.execute_reply": "2023-06-06T18:12:23.130965Z"
    },
    "papermill": {
     "duration": 0.02096,
     "end_time": "2023-06-06T18:12:23.134141",
     "exception": false,
     "start_time": "2023-06-06T18:12:23.113181",
     "status": "completed"
    },
    "tags": []
   },
   "outputs": [],
   "source": [
    "X_train = df_train.drop(columns='Age')\n",
    "y_train = df_train['Age']"
   ]
  },
  {
   "cell_type": "code",
   "execution_count": 14,
   "id": "152c0cf3",
   "metadata": {
    "execution": {
     "iopub.execute_input": "2023-06-06T18:12:23.153914Z",
     "iopub.status.busy": "2023-06-06T18:12:23.153275Z",
     "iopub.status.idle": "2023-06-06T18:12:23.161577Z",
     "shell.execute_reply": "2023-06-06T18:12:23.160588Z"
    },
    "papermill": {
     "duration": 0.020108,
     "end_time": "2023-06-06T18:12:23.163549",
     "exception": false,
     "start_time": "2023-06-06T18:12:23.143441",
     "status": "completed"
    },
    "tags": []
   },
   "outputs": [],
   "source": [
    "X_train['Sex']=X_train['Sex'].map({'M':0,'F':1,'I':2})\n"
   ]
  },
  {
   "cell_type": "code",
   "execution_count": 15,
   "id": "430dce2c",
   "metadata": {
    "execution": {
     "iopub.execute_input": "2023-06-06T18:12:23.181205Z",
     "iopub.status.busy": "2023-06-06T18:12:23.180674Z",
     "iopub.status.idle": "2023-06-06T18:12:23.347468Z",
     "shell.execute_reply": "2023-06-06T18:12:23.346145Z"
    },
    "papermill": {
     "duration": 0.178087,
     "end_time": "2023-06-06T18:12:23.349904",
     "exception": false,
     "start_time": "2023-06-06T18:12:23.171817",
     "status": "completed"
    },
    "tags": []
   },
   "outputs": [],
   "source": [
    "from sklearn.preprocessing import StandardScaler\n"
   ]
  },
  {
   "cell_type": "code",
   "execution_count": 16,
   "id": "65317bf9",
   "metadata": {
    "execution": {
     "iopub.execute_input": "2023-06-06T18:12:23.368432Z",
     "iopub.status.busy": "2023-06-06T18:12:23.368048Z",
     "iopub.status.idle": "2023-06-06T18:12:23.384612Z",
     "shell.execute_reply": "2023-06-06T18:12:23.383617Z"
    },
    "papermill": {
     "duration": 0.028521,
     "end_time": "2023-06-06T18:12:23.387053",
     "exception": false,
     "start_time": "2023-06-06T18:12:23.358532",
     "status": "completed"
    },
    "tags": []
   },
   "outputs": [],
   "source": [
    "scaler = StandardScaler()\n",
    "X_train=scaler.fit_transform(X_train)\n"
   ]
  },
  {
   "cell_type": "markdown",
   "id": "bfdec54e",
   "metadata": {
    "papermill": {
     "duration": 0.008081,
     "end_time": "2023-06-06T18:12:23.403696",
     "exception": false,
     "start_time": "2023-06-06T18:12:23.395615",
     "status": "completed"
    },
    "tags": []
   },
   "source": [
    "## Model Building"
   ]
  },
  {
   "cell_type": "code",
   "execution_count": 17,
   "id": "0eb07a6f",
   "metadata": {
    "execution": {
     "iopub.execute_input": "2023-06-06T18:12:23.421977Z",
     "iopub.status.busy": "2023-06-06T18:12:23.421631Z",
     "iopub.status.idle": "2023-06-06T18:12:23.733272Z",
     "shell.execute_reply": "2023-06-06T18:12:23.732086Z"
    },
    "papermill": {
     "duration": 0.323717,
     "end_time": "2023-06-06T18:12:23.735793",
     "exception": false,
     "start_time": "2023-06-06T18:12:23.412076",
     "status": "completed"
    },
    "scrolled": true,
    "tags": []
   },
   "outputs": [],
   "source": [
    "from xgboost import XGBRegressor\n",
    "\n"
   ]
  },
  {
   "cell_type": "code",
   "execution_count": 18,
   "id": "a0d6697f",
   "metadata": {
    "execution": {
     "iopub.execute_input": "2023-06-06T18:12:23.753747Z",
     "iopub.status.busy": "2023-06-06T18:12:23.753379Z",
     "iopub.status.idle": "2023-06-06T18:12:28.110288Z",
     "shell.execute_reply": "2023-06-06T18:12:28.108551Z"
    },
    "papermill": {
     "duration": 4.369668,
     "end_time": "2023-06-06T18:12:28.113848",
     "exception": false,
     "start_time": "2023-06-06T18:12:23.744180",
     "status": "completed"
    },
    "tags": []
   },
   "outputs": [
    {
     "data": {
      "text/html": [
       "<style>#sk-container-id-1 {color: black;background-color: white;}#sk-container-id-1 pre{padding: 0;}#sk-container-id-1 div.sk-toggleable {background-color: white;}#sk-container-id-1 label.sk-toggleable__label {cursor: pointer;display: block;width: 100%;margin-bottom: 0;padding: 0.3em;box-sizing: border-box;text-align: center;}#sk-container-id-1 label.sk-toggleable__label-arrow:before {content: \"▸\";float: left;margin-right: 0.25em;color: #696969;}#sk-container-id-1 label.sk-toggleable__label-arrow:hover:before {color: black;}#sk-container-id-1 div.sk-estimator:hover label.sk-toggleable__label-arrow:before {color: black;}#sk-container-id-1 div.sk-toggleable__content {max-height: 0;max-width: 0;overflow: hidden;text-align: left;background-color: #f0f8ff;}#sk-container-id-1 div.sk-toggleable__content pre {margin: 0.2em;color: black;border-radius: 0.25em;background-color: #f0f8ff;}#sk-container-id-1 input.sk-toggleable__control:checked~div.sk-toggleable__content {max-height: 200px;max-width: 100%;overflow: auto;}#sk-container-id-1 input.sk-toggleable__control:checked~label.sk-toggleable__label-arrow:before {content: \"▾\";}#sk-container-id-1 div.sk-estimator input.sk-toggleable__control:checked~label.sk-toggleable__label {background-color: #d4ebff;}#sk-container-id-1 div.sk-label input.sk-toggleable__control:checked~label.sk-toggleable__label {background-color: #d4ebff;}#sk-container-id-1 input.sk-hidden--visually {border: 0;clip: rect(1px 1px 1px 1px);clip: rect(1px, 1px, 1px, 1px);height: 1px;margin: -1px;overflow: hidden;padding: 0;position: absolute;width: 1px;}#sk-container-id-1 div.sk-estimator {font-family: monospace;background-color: #f0f8ff;border: 1px dotted black;border-radius: 0.25em;box-sizing: border-box;margin-bottom: 0.5em;}#sk-container-id-1 div.sk-estimator:hover {background-color: #d4ebff;}#sk-container-id-1 div.sk-parallel-item::after {content: \"\";width: 100%;border-bottom: 1px solid gray;flex-grow: 1;}#sk-container-id-1 div.sk-label:hover label.sk-toggleable__label {background-color: #d4ebff;}#sk-container-id-1 div.sk-serial::before {content: \"\";position: absolute;border-left: 1px solid gray;box-sizing: border-box;top: 0;bottom: 0;left: 50%;z-index: 0;}#sk-container-id-1 div.sk-serial {display: flex;flex-direction: column;align-items: center;background-color: white;padding-right: 0.2em;padding-left: 0.2em;position: relative;}#sk-container-id-1 div.sk-item {position: relative;z-index: 1;}#sk-container-id-1 div.sk-parallel {display: flex;align-items: stretch;justify-content: center;background-color: white;position: relative;}#sk-container-id-1 div.sk-item::before, #sk-container-id-1 div.sk-parallel-item::before {content: \"\";position: absolute;border-left: 1px solid gray;box-sizing: border-box;top: 0;bottom: 0;left: 50%;z-index: -1;}#sk-container-id-1 div.sk-parallel-item {display: flex;flex-direction: column;z-index: 1;position: relative;background-color: white;}#sk-container-id-1 div.sk-parallel-item:first-child::after {align-self: flex-end;width: 50%;}#sk-container-id-1 div.sk-parallel-item:last-child::after {align-self: flex-start;width: 50%;}#sk-container-id-1 div.sk-parallel-item:only-child::after {width: 0;}#sk-container-id-1 div.sk-dashed-wrapped {border: 1px dashed gray;margin: 0 0.4em 0.5em 0.4em;box-sizing: border-box;padding-bottom: 0.4em;background-color: white;}#sk-container-id-1 div.sk-label label {font-family: monospace;font-weight: bold;display: inline-block;line-height: 1.2em;}#sk-container-id-1 div.sk-label-container {text-align: center;}#sk-container-id-1 div.sk-container {/* jupyter's `normalize.less` sets `[hidden] { display: none; }` but bootstrap.min.css set `[hidden] { display: none !important; }` so we also need the `!important` here to be able to override the default hidden behavior on the sphinx rendered scikit-learn.org. See: https://github.com/scikit-learn/scikit-learn/issues/21755 */display: inline-block !important;position: relative;}#sk-container-id-1 div.sk-text-repr-fallback {display: none;}</style><div id=\"sk-container-id-1\" class=\"sk-top-container\"><div class=\"sk-text-repr-fallback\"><pre>XGBRegressor(base_score=None, booster=None, callbacks=None,\n",
       "             colsample_bylevel=None, colsample_bynode=None,\n",
       "             colsample_bytree=None, early_stopping_rounds=None,\n",
       "             enable_categorical=False, eval_metric=None, feature_types=None,\n",
       "             gamma=0.65, gpu_id=None, grow_policy=None, importance_type=None,\n",
       "             interaction_constraints=None, learning_rate=0.01, max_bin=None,\n",
       "             max_cat_threshold=None, max_cat_to_onehot=None,\n",
       "             max_delta_step=None, max_depth=7, max_leaves=None,\n",
       "             min_child_weight=40, missing=nan, monotone_constraints=None,\n",
       "             n_estimators=1000, n_jobs=None, num_parallel_tree=None,\n",
       "             predictor=None, random_state=0, ...)</pre><b>In a Jupyter environment, please rerun this cell to show the HTML representation or trust the notebook. <br />On GitHub, the HTML representation is unable to render, please try loading this page with nbviewer.org.</b></div><div class=\"sk-container\" hidden><div class=\"sk-item\"><div class=\"sk-estimator sk-toggleable\"><input class=\"sk-toggleable__control sk-hidden--visually\" id=\"sk-estimator-id-1\" type=\"checkbox\" checked><label for=\"sk-estimator-id-1\" class=\"sk-toggleable__label sk-toggleable__label-arrow\">XGBRegressor</label><div class=\"sk-toggleable__content\"><pre>XGBRegressor(base_score=None, booster=None, callbacks=None,\n",
       "             colsample_bylevel=None, colsample_bynode=None,\n",
       "             colsample_bytree=None, early_stopping_rounds=None,\n",
       "             enable_categorical=False, eval_metric=None, feature_types=None,\n",
       "             gamma=0.65, gpu_id=None, grow_policy=None, importance_type=None,\n",
       "             interaction_constraints=None, learning_rate=0.01, max_bin=None,\n",
       "             max_cat_threshold=None, max_cat_to_onehot=None,\n",
       "             max_delta_step=None, max_depth=7, max_leaves=None,\n",
       "             min_child_weight=40, missing=nan, monotone_constraints=None,\n",
       "             n_estimators=1000, n_jobs=None, num_parallel_tree=None,\n",
       "             predictor=None, random_state=0, ...)</pre></div></div></div></div></div>"
      ],
      "text/plain": [
       "XGBRegressor(base_score=None, booster=None, callbacks=None,\n",
       "             colsample_bylevel=None, colsample_bynode=None,\n",
       "             colsample_bytree=None, early_stopping_rounds=None,\n",
       "             enable_categorical=False, eval_metric=None, feature_types=None,\n",
       "             gamma=0.65, gpu_id=None, grow_policy=None, importance_type=None,\n",
       "             interaction_constraints=None, learning_rate=0.01, max_bin=None,\n",
       "             max_cat_threshold=None, max_cat_to_onehot=None,\n",
       "             max_delta_step=None, max_depth=7, max_leaves=None,\n",
       "             min_child_weight=40, missing=nan, monotone_constraints=None,\n",
       "             n_estimators=1000, n_jobs=None, num_parallel_tree=None,\n",
       "             predictor=None, random_state=0, ...)"
      ]
     },
     "execution_count": 18,
     "metadata": {},
     "output_type": "execute_result"
    }
   ],
   "source": [
    "model=XGBRegressor(n_estimators=1000,learning_rate=0.01,random_state=0,max_depth=7,gamma=0.65,min_child_weight=40,tree_method='hist',subsample=0.7)\n",
    "model.fit(X_train,y_train)\n"
   ]
  },
  {
   "cell_type": "markdown",
   "id": "10fff85d",
   "metadata": {
    "papermill": {
     "duration": 0.00807,
     "end_time": "2023-06-06T18:12:28.130712",
     "exception": false,
     "start_time": "2023-06-06T18:12:28.122642",
     "status": "completed"
    },
    "tags": []
   },
   "source": [
    "## Submission"
   ]
  },
  {
   "cell_type": "code",
   "execution_count": 19,
   "id": "7cf05aac",
   "metadata": {
    "execution": {
     "iopub.execute_input": "2023-06-06T18:12:28.148822Z",
     "iopub.status.busy": "2023-06-06T18:12:28.148484Z",
     "iopub.status.idle": "2023-06-06T18:12:28.156709Z",
     "shell.execute_reply": "2023-06-06T18:12:28.155818Z"
    },
    "papermill": {
     "duration": 0.019342,
     "end_time": "2023-06-06T18:12:28.158525",
     "exception": false,
     "start_time": "2023-06-06T18:12:28.139183",
     "status": "completed"
    },
    "tags": []
   },
   "outputs": [],
   "source": [
    "df_test['Sex']=df_test['Sex'].map({'M':0,'F':1,'I':2})\n"
   ]
  },
  {
   "cell_type": "code",
   "execution_count": 20,
   "id": "14ef20e1",
   "metadata": {
    "execution": {
     "iopub.execute_input": "2023-06-06T18:12:28.176735Z",
     "iopub.status.busy": "2023-06-06T18:12:28.176423Z",
     "iopub.status.idle": "2023-06-06T18:12:28.589771Z",
     "shell.execute_reply": "2023-06-06T18:12:28.588847Z"
    },
    "papermill": {
     "duration": 0.424899,
     "end_time": "2023-06-06T18:12:28.591927",
     "exception": false,
     "start_time": "2023-06-06T18:12:28.167028",
     "status": "completed"
    },
    "tags": []
   },
   "outputs": [],
   "source": [
    "prediction=model.predict(df_test).round()\n"
   ]
  },
  {
   "cell_type": "code",
   "execution_count": 21,
   "id": "d90e12da",
   "metadata": {
    "execution": {
     "iopub.execute_input": "2023-06-06T18:12:28.610650Z",
     "iopub.status.busy": "2023-06-06T18:12:28.610333Z",
     "iopub.status.idle": "2023-06-06T18:12:28.674577Z",
     "shell.execute_reply": "2023-06-06T18:12:28.673855Z"
    },
    "papermill": {
     "duration": 0.075937,
     "end_time": "2023-06-06T18:12:28.676575",
     "exception": false,
     "start_time": "2023-06-06T18:12:28.600638",
     "status": "completed"
    },
    "tags": []
   },
   "outputs": [],
   "source": [
    "submission=pd.DataFrame({'id':df_test.id,'Age':prediction})\n",
    "submission.to_csv('submission.csv',index=False)"
   ]
  },
  {
   "cell_type": "code",
   "execution_count": 22,
   "id": "a51aee9a",
   "metadata": {
    "execution": {
     "iopub.execute_input": "2023-06-06T18:12:28.695484Z",
     "iopub.status.busy": "2023-06-06T18:12:28.694842Z",
     "iopub.status.idle": "2023-06-06T18:12:28.706245Z",
     "shell.execute_reply": "2023-06-06T18:12:28.705360Z"
    },
    "papermill": {
     "duration": 0.022785,
     "end_time": "2023-06-06T18:12:28.708072",
     "exception": false,
     "start_time": "2023-06-06T18:12:28.685287",
     "status": "completed"
    },
    "tags": []
   },
   "outputs": [
    {
     "data": {
      "text/html": [
       "<div>\n",
       "<style scoped>\n",
       "    .dataframe tbody tr th:only-of-type {\n",
       "        vertical-align: middle;\n",
       "    }\n",
       "\n",
       "    .dataframe tbody tr th {\n",
       "        vertical-align: top;\n",
       "    }\n",
       "\n",
       "    .dataframe thead th {\n",
       "        text-align: right;\n",
       "    }\n",
       "</style>\n",
       "<table border=\"1\" class=\"dataframe\">\n",
       "  <thead>\n",
       "    <tr style=\"text-align: right;\">\n",
       "      <th></th>\n",
       "      <th>id</th>\n",
       "      <th>Age</th>\n",
       "    </tr>\n",
       "  </thead>\n",
       "  <tbody>\n",
       "    <tr>\n",
       "      <th>0</th>\n",
       "      <td>74051</td>\n",
       "      <td>13.0</td>\n",
       "    </tr>\n",
       "    <tr>\n",
       "      <th>1</th>\n",
       "      <td>74052</td>\n",
       "      <td>12.0</td>\n",
       "    </tr>\n",
       "    <tr>\n",
       "      <th>2</th>\n",
       "      <td>74053</td>\n",
       "      <td>12.0</td>\n",
       "    </tr>\n",
       "    <tr>\n",
       "      <th>3</th>\n",
       "      <td>74054</td>\n",
       "      <td>12.0</td>\n",
       "    </tr>\n",
       "    <tr>\n",
       "      <th>4</th>\n",
       "      <td>74055</td>\n",
       "      <td>12.0</td>\n",
       "    </tr>\n",
       "    <tr>\n",
       "      <th>...</th>\n",
       "      <td>...</td>\n",
       "      <td>...</td>\n",
       "    </tr>\n",
       "    <tr>\n",
       "      <th>49363</th>\n",
       "      <td>123414</td>\n",
       "      <td>12.0</td>\n",
       "    </tr>\n",
       "    <tr>\n",
       "      <th>49364</th>\n",
       "      <td>123415</td>\n",
       "      <td>12.0</td>\n",
       "    </tr>\n",
       "    <tr>\n",
       "      <th>49365</th>\n",
       "      <td>123416</td>\n",
       "      <td>12.0</td>\n",
       "    </tr>\n",
       "    <tr>\n",
       "      <th>49366</th>\n",
       "      <td>123417</td>\n",
       "      <td>12.0</td>\n",
       "    </tr>\n",
       "    <tr>\n",
       "      <th>49367</th>\n",
       "      <td>123418</td>\n",
       "      <td>12.0</td>\n",
       "    </tr>\n",
       "  </tbody>\n",
       "</table>\n",
       "<p>49368 rows × 2 columns</p>\n",
       "</div>"
      ],
      "text/plain": [
       "           id   Age\n",
       "0       74051  13.0\n",
       "1       74052  12.0\n",
       "2       74053  12.0\n",
       "3       74054  12.0\n",
       "4       74055  12.0\n",
       "...       ...   ...\n",
       "49363  123414  12.0\n",
       "49364  123415  12.0\n",
       "49365  123416  12.0\n",
       "49366  123417  12.0\n",
       "49367  123418  12.0\n",
       "\n",
       "[49368 rows x 2 columns]"
      ]
     },
     "execution_count": 22,
     "metadata": {},
     "output_type": "execute_result"
    }
   ],
   "source": [
    "submission"
   ]
  },
  {
   "cell_type": "code",
   "execution_count": null,
   "id": "9d23adfc",
   "metadata": {
    "papermill": {
     "duration": 0.00839,
     "end_time": "2023-06-06T18:12:28.725265",
     "exception": false,
     "start_time": "2023-06-06T18:12:28.716875",
     "status": "completed"
    },
    "tags": []
   },
   "outputs": [],
   "source": []
  },
  {
   "cell_type": "code",
   "execution_count": null,
   "id": "2ef94f78",
   "metadata": {
    "papermill": {
     "duration": 0.008078,
     "end_time": "2023-06-06T18:12:28.742045",
     "exception": false,
     "start_time": "2023-06-06T18:12:28.733967",
     "status": "completed"
    },
    "tags": []
   },
   "outputs": [],
   "source": []
  },
  {
   "cell_type": "code",
   "execution_count": null,
   "id": "6e9b3645",
   "metadata": {
    "papermill": {
     "duration": 0.008242,
     "end_time": "2023-06-06T18:12:28.758931",
     "exception": false,
     "start_time": "2023-06-06T18:12:28.750689",
     "status": "completed"
    },
    "tags": []
   },
   "outputs": [],
   "source": []
  }
 ],
 "metadata": {
  "kernelspec": {
   "display_name": "Python 3",
   "language": "python",
   "name": "python3"
  },
  "language_info": {
   "codemirror_mode": {
    "name": "ipython",
    "version": 3
   },
   "file_extension": ".py",
   "mimetype": "text/x-python",
   "name": "python",
   "nbconvert_exporter": "python",
   "pygments_lexer": "ipython3",
   "version": "3.10.10"
  },
  "papermill": {
   "default_parameters": {},
   "duration": 19.532102,
   "end_time": "2023-06-06T18:12:29.688263",
   "environment_variables": {},
   "exception": null,
   "input_path": "__notebook__.ipynb",
   "output_path": "__notebook__.ipynb",
   "parameters": {},
   "start_time": "2023-06-06T18:12:10.156161",
   "version": "2.4.0"
  }
 },
 "nbformat": 4,
 "nbformat_minor": 5
}
